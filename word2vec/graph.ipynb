{
 "cells": [
  {
   "cell_type": "code",
   "execution_count": null,
   "metadata": {
    "collapsed": true
   },
   "outputs": [],
   "source": [
    "import theano as th\n",
    "import numpy as np\n",
    "import cPickle \n",
    "\n",
    "par = (5, 'datasetSentences.txt')"
   ]
  },
  {
   "cell_type": "code",
   "execution_count": null,
   "metadata": {
    "collapsed": false
   },
   "outputs": [],
   "source": [
    "class word2vec:\n",
    "    \n",
    "    def __init__(self, params):\n",
    "        \n",
    "        # Change parameters accordingly\n",
    "        \n",
    "        self.window_size, self.raw_data = params\n",
    "        self.count_word2vec = dict() # word : count\n",
    "        self.order_word2vec = dict() # key : word\n",
    "        self.raw_train_data = dict()\n",
    "        \n",
    "    # Preprocessing based on data avaialable add appropriate definition definition but don't mess up domain and range of function.\n",
    "    def sentimental_analysis(self):\n",
    "        \n",
    "        with open(self.raw_data) as f:\n",
    "            raw_lines = []\n",
    "            for i in f:\n",
    "                raw_lines.append(i)\n",
    "            del raw_lines[0]\n",
    "            for j in range(0,len(raw_lines)):\n",
    "                key = int(raw_lines[j].split('\\t')[0])\n",
    "                raw_sentence = raw_lines[j].split('\\t')[1]\n",
    "                #print raw_sentence\n",
    "                processed_sentence = raw_sentence.split(' ')\n",
    "                del processed_sentence[-1]\n",
    "                processed_sentence.append('.')\n",
    "                sentence = processed_sentence\n",
    "                #print sentence\n",
    "                self.raw_train_data.update({key:sentence})\n",
    "                order = 0\n",
    "                for k in sentence:\n",
    "                    if k in self.count_word2vec.keys():\n",
    "                        self.count_word2vec[k] += 1\n",
    "                    else:\n",
    "                        self.order_word2vec.update({order:k})\n",
    "                        order += 1\n",
    "                        self.count_word2vec.update({k:0})\n",
    "                #print self.order_word2vec\n",
    "                #print self.count_word2vec\n",
    "                data = {'words_with_keys':self.order_word2vec, 'words_with_count':self.count_word2vec, 'train_data':self.raw_train_data}\n",
    "                #with open('raw_data','wb') as fp:\n",
    "                #    cPickle.dump(data, fp)\n",
    "                \n",
    "    def prepare_data_for_word2vec(self):\n",
    "        \n",
    "        with open('raw_data','rb') as fp:\n",
    "            data = cPickle.load(fp)\n",
    "            print data\n",
    "            \n",
    "        \n",
    "        \n",
    "                \n",
    "                        \n",
    "                 \n",
    "            \n",
    "                \n",
    "        \n",
    "        # The data should be as a line. Also, the apostrophe s should be like this 's seperated from the real thing.\n",
    "\n",
    "\n"
   ]
  },
  {
   "cell_type": "code",
   "execution_count": null,
   "metadata": {
    "collapsed": false
   },
   "outputs": [],
   "source": [
    "w = word2vec(par)\n",
    "#w.sentimental_analysis()\n",
    "w.prepare_data_for_word2vec()"
   ]
  }
 ],
 "metadata": {
  "kernelspec": {
   "display_name": "Python 2",
   "language": "python",
   "name": "python2"
  },
  "language_info": {
   "codemirror_mode": {
    "name": "ipython",
    "version": 2
   },
   "file_extension": ".py",
   "mimetype": "text/x-python",
   "name": "python",
   "nbconvert_exporter": "python",
   "pygments_lexer": "ipython2",
   "version": "2.7.13"
  }
 },
 "nbformat": 4,
 "nbformat_minor": 1
}
